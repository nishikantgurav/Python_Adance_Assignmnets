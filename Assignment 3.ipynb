{
 "cells": [
  {
   "cell_type": "code",
   "execution_count": 1,
   "metadata": {},
   "outputs": [],
   "source": [
    "#1. What is the concept of an abstract superclass?"
   ]
  },
  {
   "cell_type": "markdown",
   "metadata": {},
   "source": [
    "abstract superclass is a common superclass for several subclasses.\n",
    "An abstract class can be considered as a blueprint for other classes. It allows you to create a set of methods that must\n",
    "be created within any child classes built from the abstract class\n"
   ]
  },
  {
   "cell_type": "code",
   "execution_count": 2,
   "metadata": {},
   "outputs": [],
   "source": [
    "#2. What happens when a class statements top level contains a basic assignment statement?"
   ]
  },
  {
   "cell_type": "code",
   "execution_count": null,
   "metadata": {},
   "outputs": [],
   "source": [
    "when a class statements top level contains a basic assignment statement then that asssignment statement is accesible to all the \n",
    "the "
   ]
  },
  {
   "cell_type": "code",
   "execution_count": 6,
   "metadata": {},
   "outputs": [],
   "source": [
    "#3. Why does a class need to manually call a superclass's __init__ method?"
   ]
  },
  {
   "cell_type": "markdown",
   "metadata": {},
   "source": [
    "we call the superlass's __init__ method manually to access all the attributes and methods declared in superclass or parent class\n",
    "in subclass or child class to avoid the repeation of code."
   ]
  },
  {
   "cell_type": "code",
   "execution_count": 3,
   "metadata": {},
   "outputs": [],
   "source": [
    "#4. How can you augment, instead of completely replacing, an inherited method?"
   ]
  },
  {
   "cell_type": "markdown",
   "metadata": {},
   "source": [
    "What we really want to do here is somehow augment the original giveRaise, instead of replacing it altogether. \n",
    "The good way to do that in Python is by calling to the original version directly, with augmented arguments, like this:"
   ]
  },
  {
   "cell_type": "code",
   "execution_count": null,
   "metadata": {},
   "outputs": [],
   "source": [
    "class Manager(Person):\n",
    "\n",
    "    def giveRaise(self, percent, bonus=.10):\n",
    "        pass\n",
    "\n",
    "Person.giveRaise(self, percent + bonus) # Good: augment original\n"
   ]
  },
  {
   "cell_type": "markdown",
   "metadata": {},
   "source": [
    "This code leverages the fact that a class method can always be called either through an instance (the usual way, where\n",
    "Python sends the instance to the self argument automatically) or through the class (the less common scheme, where you\n",
    "                                                                                    must pass the instance manually)."
   ]
  },
  {
   "cell_type": "code",
   "execution_count": 7,
   "metadata": {},
   "outputs": [],
   "source": [
    "#5. How is the local scope of a class different from that of a function?"
   ]
  },
  {
   "cell_type": "markdown",
   "metadata": {},
   "source": [
    "If a variable is declared inside of a function then its scope is local to that function only.but if variable is declared in a\n",
    "class then that variable is accessed by all the objects of that class."
   ]
  },
  {
   "cell_type": "code",
   "execution_count": 12,
   "metadata": {},
   "outputs": [
    {
     "name": "stdout",
     "output_type": "stream",
     "text": [
      "10\n",
      "10\n"
     ]
    }
   ],
   "source": [
    "class Bat:\n",
    "    x=10\n",
    "    def __init__(self,ht,wt):\n",
    "        self.ht=ht\n",
    "        self.wt=wt\n",
    "    def area(self):\n",
    "        return self.ht*self.wt\n",
    "ob1=Bat(10,12)\n",
    "ob2=Bat(4,2)\n",
    "print(ob1.x)\n",
    "print(ob2.x)\n",
    "    "
   ]
  },
  {
   "cell_type": "code",
   "execution_count": null,
   "metadata": {},
   "outputs": [],
   "source": []
  }
 ],
 "metadata": {
  "kernelspec": {
   "display_name": "Python 3",
   "language": "python",
   "name": "python3"
  },
  "language_info": {
   "codemirror_mode": {
    "name": "ipython",
    "version": 3
   },
   "file_extension": ".py",
   "mimetype": "text/x-python",
   "name": "python",
   "nbconvert_exporter": "python",
   "pygments_lexer": "ipython3",
   "version": "3.7.1"
  }
 },
 "nbformat": 4,
 "nbformat_minor": 2
}
