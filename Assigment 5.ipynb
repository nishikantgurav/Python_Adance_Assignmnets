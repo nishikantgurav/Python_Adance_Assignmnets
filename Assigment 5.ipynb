{
 "cells": [
  {
   "cell_type": "code",
   "execution_count": 1,
   "metadata": {},
   "outputs": [],
   "source": [
    "#Q1. What is the meaning of multiple inheritance?"
   ]
  },
  {
   "cell_type": "markdown",
   "metadata": {},
   "source": [
    "Inheritance is the mechanism to achieve the re-usability of code as one class(child class) can derive the properties of another\n",
    "class(parent class). It also provides transitivity ie. if class C inherits from P then all the sub-classes of C would \n",
    "also inherit from P.\n",
    " \n",
    "\n",
    "Multiple Inheritance \n",
    "When a class is derived from more than one base class it is called multiple Inheritance. The derived class inherits all the\n",
    "features of the base case"
   ]
  },
  {
   "cell_type": "code",
   "execution_count": 2,
   "metadata": {},
   "outputs": [],
   "source": [
    "#Q2. What is the concept of delegation?"
   ]
  },
  {
   "cell_type": "markdown",
   "metadata": {},
   "source": [
    "Delegation is an object oriented technique (also called a design pattern). Let's say you have an object x and want to change\n",
    "the behaviour of just one of its methods. You can create a new class that provides a new implementation of the method you're\n",
    "interested in changing and delegates all other methods to the corresponding method of x."
   ]
  },
  {
   "cell_type": "code",
   "execution_count": 4,
   "metadata": {},
   "outputs": [],
   "source": [
    "class UpperOut:\n",
    "\n",
    "    def __init__(self, outfile):\n",
    "        self._outfile = outfile\n",
    "\n",
    "    def write(self, s):\n",
    "        self._outfile.write(s.upper())\n",
    "\n",
    "    def __getattr__(self, name):\n",
    "        return getattr(self._outfile, name)"
   ]
  },
  {
   "cell_type": "markdown",
   "metadata": {},
   "source": [
    "Here the UpperOut class redefines the write() method to convert the argument string to uppercase before calling the underlying \n",
    "self.__outfile.write() method. All other methods are delegated to the underlying self.__outfile object. The delegation is \n",
    "accomplished via the __getattr__ method; consult the language reference for more information about controlling attribute access."
   ]
  },
  {
   "cell_type": "code",
   "execution_count": 6,
   "metadata": {},
   "outputs": [],
   "source": [
    "#Q3. What is the concept of composition?"
   ]
  },
  {
   "cell_type": "code",
   "execution_count": null,
   "metadata": {},
   "outputs": [],
   "source": [
    "In composition one of the classes is composed of one or more instance of other classes. In other words one class is container\n",
    "and other class is content and if you delete the container object then all of its contents objects are also deleted.\n",
    "\n"
   ]
  },
  {
   "cell_type": "code",
   "execution_count": 7,
   "metadata": {},
   "outputs": [
    {
     "name": "stdout",
     "output_type": "stream",
     "text": [
      "Component class object created...\n",
      "Composite class object also created...\n",
      "Composite class m2() method executed...\n",
      "Component class m1() method executed...\n"
     ]
    }
   ],
   "source": [
    "class Component:\n",
    "  \n",
    "   # composite class constructor\n",
    "    def __init__(self):\n",
    "        print('Component class object created...')\n",
    "  \n",
    "    # composite class instance method\n",
    "    def m1(self):\n",
    "        print('Component class m1() method executed...')\n",
    "  \n",
    "  \n",
    "class Composite:\n",
    "  \n",
    "    # composite class constructor\n",
    "    def __init__(self):\n",
    "  \n",
    "        # creating object of component class\n",
    "        self.obj1 = Component()\n",
    "          \n",
    "        print('Composite class object also created...')\n",
    "  \n",
    "     # composite class instance method\n",
    "    def m2(self):\n",
    "        \n",
    "        print('Composite class m2() method executed...')\n",
    "  \n",
    "        # calling m1() method of component class\n",
    "        self.obj1.m1()\n",
    "  \n",
    "  \n",
    "# creating object of composite class\n",
    "obj2 = Composite()\n",
    "  \n",
    "# calling m2() method of composite class\n",
    "obj2.m2()"
   ]
  },
  {
   "cell_type": "code",
   "execution_count": 8,
   "metadata": {},
   "outputs": [
    {
     "name": "stdout",
     "output_type": "stream",
     "text": [
      "Total: 7700\n"
     ]
    }
   ],
   "source": [
    "class Salary:\n",
    "    def __init__(self, pay):\n",
    "        self.pay = pay\n",
    " \n",
    "    def get_total(self):\n",
    "        return (self.pay*12)\n",
    " \n",
    " \n",
    "class Employee:\n",
    "    def __init__(self, pay, bonus):\n",
    "        self.pay = pay\n",
    "        self.bonus = bonus\n",
    "        self.obj_salary = Salary(self.pay)\n",
    " \n",
    "    def annual_salary(self):\n",
    "        return \"Total: \" + str(self.obj_salary.get_total() + self.bonus)\n",
    " \n",
    " \n",
    "obj_emp = Employee(600, 500)\n",
    "print(obj_emp.annual_salary())"
   ]
  },
  {
   "cell_type": "code",
   "execution_count": 9,
   "metadata": {},
   "outputs": [],
   "source": [
    "#Q4. What are bound methods and how do we use them?"
   ]
  },
  {
   "cell_type": "markdown",
   "metadata": {},
   "source": [
    "A bound method is the one which is dependent on the instance of the class as the first argument. It passes the instance as \n",
    "the first argument which is used to access the variables and functions\n",
    "\n",
    "A bound method is the one which is dependent on the instance of the class as the first argument.\n",
    "It passes the instance as the first argument which is used to access the variables and functions. \n",
    "In Python 3 and newer versions of python, all functions in the class are by default bound methods"
   ]
  },
  {
   "cell_type": "code",
   "execution_count": 11,
   "metadata": {},
   "outputs": [],
   "source": [
    "class A(object):\n",
    "   def fred(self, a):\n",
    "      print (\"fred\", self, a)"
   ]
  },
  {
   "cell_type": "code",
   "execution_count": 12,
   "metadata": {},
   "outputs": [],
   "source": [
    "a = A()"
   ]
  },
  {
   "cell_type": "code",
   "execution_count": 13,
   "metadata": {},
   "outputs": [
    {
     "data": {
      "text/plain": [
       "<function __main__.A.fred(self, a)>"
      ]
     },
     "execution_count": 13,
     "metadata": {},
     "output_type": "execute_result"
    }
   ],
   "source": [
    "A.fred  #<unbound method A.fred>"
   ]
  },
  {
   "cell_type": "code",
   "execution_count": 14,
   "metadata": {},
   "outputs": [],
   "source": [
    "b = a.fred"
   ]
  },
  {
   "cell_type": "code",
   "execution_count": 16,
   "metadata": {},
   "outputs": [
    {
     "data": {
      "text/plain": [
       "<bound method A.fred of <__main__.A object at 0x0000020537EFC4A8>>"
      ]
     },
     "execution_count": 16,
     "metadata": {},
     "output_type": "execute_result"
    }
   ],
   "source": [
    "b"
   ]
  },
  {
   "cell_type": "markdown",
   "metadata": {},
   "source": [
    "A 'bound method' is called that because the first argument (ie self) is already set to a; you can call b(10) and \n",
    "it works just the same way as if you had done a.fred(10)"
   ]
  },
  {
   "cell_type": "code",
   "execution_count": 17,
   "metadata": {},
   "outputs": [],
   "source": [
    "#Q5. What is the purpose of pseudoprivate attributes?"
   ]
  },
  {
   "cell_type": "markdown",
   "metadata": {},
   "source": [
    "pseudoprivate attribute feature is meant to alleviate has to do with the way instance attributes are stored"
   ]
  },
  {
   "cell_type": "code",
   "execution_count": 18,
   "metadata": {},
   "outputs": [
    {
     "name": "stdout",
     "output_type": "stream",
     "text": [
      "18\n",
      "18\n"
     ]
    }
   ],
   "source": [
    "class Women:\n",
    "    def __init__(self, name):\n",
    "        self.name = name\n",
    "        self.__age = 18  # Private\n",
    "\n",
    "    def __secret(self):\n",
    "        return  self.__age\n",
    "\n",
    "\n",
    "if __name__ == '__main__':\n",
    "    rose = Women('rose')\n",
    "\n",
    "    # Pseudo attribute, method\n",
    "    print(rose._Women__age)       # 18\n",
    "    print(rose._Women__secret())  # 18"
   ]
  },
  {
   "cell_type": "code",
   "execution_count": 20,
   "metadata": {},
   "outputs": [
    {
     "name": "stdout",
     "output_type": "stream",
     "text": [
      "18\n"
     ]
    }
   ],
   "source": [
    "class Women:\n",
    "    def __init__(self, name):\n",
    "        self.name = name\n",
    "        self.__age = 18  # Private\n",
    "\n",
    "    def __secret(self):\n",
    "        return  self.__age\n",
    "    \n",
    "rose = Women('rose')\n",
    "#print(rose.__secret()) #this will give the error\n",
    "print(rose._Women__secret())"
   ]
  },
  {
   "cell_type": "code",
   "execution_count": null,
   "metadata": {},
   "outputs": [],
   "source": []
  }
 ],
 "metadata": {
  "kernelspec": {
   "display_name": "Python 3",
   "language": "python",
   "name": "python3"
  },
  "language_info": {
   "codemirror_mode": {
    "name": "ipython",
    "version": 3
   },
   "file_extension": ".py",
   "mimetype": "text/x-python",
   "name": "python",
   "nbconvert_exporter": "python",
   "pygments_lexer": "ipython3",
   "version": "3.7.1"
  }
 },
 "nbformat": 4,
 "nbformat_minor": 2
}
