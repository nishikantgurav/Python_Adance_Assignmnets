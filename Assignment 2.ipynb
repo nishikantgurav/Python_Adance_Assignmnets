{
 "cells": [
  {
   "cell_type": "code",
   "execution_count": null,
   "metadata": {},
   "outputs": [],
   "source": [
    "#Q1. What is the relationship between classes and modules?"
   ]
  },
  {
   "cell_type": "markdown",
   "metadata": {},
   "source": [
    "Basically, a class can be instantiated but a module cannot. A module will never be anything other than a library of methods.\n",
    "A class can be so much more -- it can hold its state (by keeping track of instance variables) and be duplicated as many \n",
    "times as you want."
   ]
  },
  {
   "cell_type": "code",
   "execution_count": null,
   "metadata": {},
   "outputs": [],
   "source": [
    "#Q2. How do you make instances and classes?"
   ]
  },
  {
   "cell_type": "markdown",
   "metadata": {},
   "source": [
    "A class is a user-defined blueprint or prototype from which objects are created. Classes provide a means of bundling data and \n",
    "functionality together.Class creates a user-defined data structure, which holds its own data members and member functions,\n",
    "which can be accessed and used by creating an instance of that class\n",
    "\n",
    "To create instances of a class, you call the class using class name and pass in whatever arguments its __init__ method accepts."
   ]
  },
  {
   "cell_type": "code",
   "execution_count": null,
   "metadata": {},
   "outputs": [],
   "source": [
    "#Q3. Where and how should be class attributes created?"
   ]
  },
  {
   "cell_type": "markdown",
   "metadata": {},
   "source": [
    "A class attribute is a Python variable that belongs to a class rather than a particular object. It is shared between all the\n",
    "objects of this class and it is defined outside the constructor function, __init__(self,...) , of the class."
   ]
  },
  {
   "cell_type": "code",
   "execution_count": null,
   "metadata": {},
   "outputs": [],
   "source": [
    "#Q5. What does the term self in a Python class mean?"
   ]
  },
  {
   "cell_type": "markdown",
   "metadata": {},
   "source": [
    "Python self variable is used to bind the instance of the class to the instance method\n",
    "self is a variable that is used in instance methods to refer to the object on which they are working.\n",
    "self represents the instance of the class.\n",
    "Python decided to do methods in a way that makes the instance to which the method belongs be passed automatically, \n",
    "but not received automatically: the first parameter (i.e.self) of methods is the instance the method is called on.\n"
   ]
  },
  {
   "cell_type": "code",
   "execution_count": 1,
   "metadata": {},
   "outputs": [],
   "source": [
    "#Q6. How does a Python class handle operator overloading?"
   ]
  },
  {
   "cell_type": "markdown",
   "metadata": {},
   "source": [
    "Consider that we have two objects which are a physical representation of a class (user-defined data type) and we have to \n",
    "add two objects with binary ‘+’ operator it throws an error, because compiler don’t know how to add two objects. \n",
    "So we define a method for an operator and that process is called operator overloading. \n",
    "\n",
    "To perform operator overloading, Python provides some special function or magic function that is automatically invoked\n",
    "when it is associated with that particular operator. For example, when we use + operator, the magic method __add__ is \n",
    "automatically invoked in which the operation for + operator is defined.\n",
    "\n"
   ]
  },
  {
   "cell_type": "code",
   "execution_count": 2,
   "metadata": {},
   "outputs": [
    {
     "name": "stdout",
     "output_type": "stream",
     "text": [
      "3\n",
      "GeeksFor\n"
     ]
    }
   ],
   "source": [
    "class A:\n",
    "    def __init__(self, a):\n",
    "        self.a = a\n",
    " \n",
    "    # adding two objects\n",
    "    def __add__(self, o):\n",
    "        return self.a + o.a\n",
    "ob1 = A(1)\n",
    "ob2 = A(2)\n",
    "ob3 = A(\"Geeks\")\n",
    "ob4 = A(\"For\")\n",
    " \n",
    "print(ob1 + ob2)\n",
    "print(ob3 + ob4)"
   ]
  },
  {
   "cell_type": "code",
   "execution_count": 3,
   "metadata": {},
   "outputs": [],
   "source": [
    "#Q7. When do you consider allowing operator overloading of your classes?"
   ]
  },
  {
   "cell_type": "markdown",
   "metadata": {},
   "source": [
    "when you want to makes it possible for templates to work equally well with classes and built-in/intrinsic types"
   ]
  },
  {
   "cell_type": "code",
   "execution_count": 5,
   "metadata": {},
   "outputs": [],
   "source": [
    "#Q8. What is the most popular form of operator overloading?"
   ]
  },
  {
   "cell_type": "markdown",
   "metadata": {},
   "source": [
    "Magic methods in Python are special methods that begin and end with a double underscore( __ ).They are the most popular form \n",
    "of operator overloading in python.\n",
    "e.g for addition operator '+',there is a magic method called  __add__."
   ]
  },
  {
   "cell_type": "code",
   "execution_count": null,
   "metadata": {},
   "outputs": [],
   "source": [
    "#Q9. What are the two most important concepts to grasp in order to comprehend Python OOP code?"
   ]
  }
 ],
 "metadata": {
  "kernelspec": {
   "display_name": "Python 3",
   "language": "python",
   "name": "python3"
  },
  "language_info": {
   "codemirror_mode": {
    "name": "ipython",
    "version": 3
   },
   "file_extension": ".py",
   "mimetype": "text/x-python",
   "name": "python",
   "nbconvert_exporter": "python",
   "pygments_lexer": "ipython3",
   "version": "3.7.1"
  }
 },
 "nbformat": 4,
 "nbformat_minor": 2
}
